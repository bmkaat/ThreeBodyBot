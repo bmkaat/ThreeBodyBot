{
 "cells": [
  {
   "cell_type": "code",
   "execution_count": 3,
   "metadata": {},
   "outputs": [],
   "source": [
    "cd(\"/home/kirk/Documents\")"
   ]
  },
  {
   "cell_type": "code",
   "execution_count": 5,
   "metadata": {},
   "outputs": [
    {
     "data": {
      "text/plain": [
       "\"/home/kirk/Documents\""
      ]
     },
     "execution_count": 5,
     "metadata": {},
     "output_type": "execute_result"
    }
   ],
   "source": [
    "function getUniqueRand(n,upper)\n",
    "    acceptRand=false\n",
    "    while acceptRand==false\n",
    "        randInd=rand(1:upper,n)\n",
    "        if randInd[1]!=randInd[2]\n",
    "            acceptRand=true\n",
    "            return randInd\n",
    "        end\n",
    "    end\n",
    "end\n",
    "function pickPair(pptList,peepList)\n",
    "    accept=false\n",
    "    while accept==false\n",
    "        randInd=getUniqueRand(2,length(pptList))\n",
    "        ppt=pptList[randInd[1]]\n",
    "        peep=peepList[randInd[2]]\n",
    "        println(\"$peep chosen to present $ppt\\naccept this choice?\")\n",
    "        ans=readline()\n",
    "        if ans==\"y\"\n",
    "            accept=true\n",
    "            deleteat!(peepList,randInd[2])\n",
    "            deleteat!(pptList,randInd[1])\n",
    "            return pptList,peepList\n",
    "        else\n",
    "            println(\"picking again\")\n",
    "        end\n",
    "    end\n",
    "end"
   ]
  },
  {
   "cell_type": "code",
   "execution_count": null,
   "metadata": {},
   "outputs": [],
   "source": [
    "pptList=[\"Accreting x-ray binaries\",\"Riboflavin Kinase\",\"Function Expectations\"]\n",
    "peepList=[\"Kirk\",\"Olivia\",\"Lauren\"]\n",
    "while length(peepList)>1\n",
    "    stop=readline()\n",
    "    pptList,peepList=pickPair(pptList,peepList)\n",
    "    if length(peepList)==1\n",
    "        stop=readline()\n",
    "        println(\"last but not least!\\n$(peepList[1]) chosen to present $(pptList[1])\")\n",
    "    end\n",
    "end"
   ]
  }
 ],
 "metadata": {
  "kernelspec": {
   "display_name": "Julia 1.4.0",
   "language": "julia",
   "name": "julia-1.4"
  },
  "language_info": {
   "file_extension": ".jl",
   "mimetype": "application/julia",
   "name": "julia",
   "version": "1.4.0"
  }
 },
 "nbformat": 4,
 "nbformat_minor": 4
}
